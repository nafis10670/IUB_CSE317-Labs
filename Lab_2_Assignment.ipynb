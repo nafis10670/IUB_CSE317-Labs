{
  "cells": [
    {
      "cell_type": "markdown",
      "metadata": {
        "id": "view-in-github",
        "colab_type": "text"
      },
      "source": [
        "<a href=\"https://colab.research.google.com/github/nafis10670/IUB_CSE317-Labs/blob/main/Lab_2_Assignment.ipynb\" target=\"_parent\"><img src=\"https://colab.research.google.com/assets/colab-badge.svg\" alt=\"Open In Colab\"/></a>"
      ]
    },
    {
      "cell_type": "markdown",
      "metadata": {
        "id": "1ow0Xm_cIwgm"
      },
      "source": [
        "#### **Homework 01:**\n",
        "Generate random matrix of size 10 x 5. Then, solve the following problems:"
      ]
    },
    {
      "cell_type": "code",
      "execution_count": null,
      "metadata": {
        "id": "ADKl5bH2Iwgm"
      },
      "outputs": [],
      "source": [
        "# Write your code to create the 10x5 random matrix here"
      ]
    },
    {
      "cell_type": "markdown",
      "metadata": {
        "id": "DyVYpkx3Iwgn"
      },
      "source": [
        "##### **Problem 01:**\n",
        "Calculate the sum and mean of the 2nd row of the matrix."
      ]
    },
    {
      "cell_type": "code",
      "execution_count": null,
      "metadata": {
        "id": "t2KwR_NJIwgn"
      },
      "outputs": [],
      "source": [
        "# Write your code here"
      ]
    },
    {
      "cell_type": "markdown",
      "metadata": {
        "id": "9bcPMryQIwgo"
      },
      "source": [
        "##### **Problem 02:**\n",
        "Find the sum and mean of all the rows of the matrix."
      ]
    },
    {
      "cell_type": "code",
      "execution_count": null,
      "metadata": {
        "id": "ZSNClgeYIwgo"
      },
      "outputs": [],
      "source": [
        "# Write your code here"
      ]
    },
    {
      "cell_type": "markdown",
      "metadata": {
        "id": "8bCway-nIwgp"
      },
      "source": [
        "##### **Problem 03:**\n",
        "Find the mean of the 3rd column of the matrix without using the built-in function and loop."
      ]
    },
    {
      "cell_type": "code",
      "execution_count": null,
      "metadata": {
        "id": "Y3JGw37MIwgq"
      },
      "outputs": [],
      "source": [
        "# Write your code here"
      ]
    },
    {
      "cell_type": "markdown",
      "metadata": {
        "id": "FTS1KxVvIwgq"
      },
      "source": [
        "##### **Problem 04:**\n",
        "Generate the vector `[25, 16, 9, 4, 1]` and then find the square root of each element of the vector using for loop. **Hint:** Use `np.sqrt()` function to find the square root of a number, don't use any other built-in function."
      ]
    },
    {
      "cell_type": "code",
      "execution_count": null,
      "metadata": {
        "id": "I7fgDQsPIwgr"
      },
      "outputs": [],
      "source": [
        "# Write your code here"
      ]
    },
    {
      "cell_type": "markdown",
      "metadata": {
        "id": "ewrZGjZFIwgr"
      },
      "source": [
        "##### **Problem 05:**\n",
        "Write a function that takes a number and returns a vector like the previous problem. For example, if the input is 5, then the output should be `[25, 16, 9, 4, 1]`. If the input is 10, then the output should be `[100, 81, 64, 49, 36, 25, 16, 9, 4, 1]`."
      ]
    },
    {
      "cell_type": "code",
      "execution_count": null,
      "metadata": {
        "id": "leJIh7nWIwgr"
      },
      "outputs": [],
      "source": [
        "# Write your code here"
      ]
    },
    {
      "cell_type": "markdown",
      "metadata": {
        "id": "VBF1AGvMIwgs"
      },
      "source": [
        "##### **Problem 06:**\n",
        "Generate the following block matrix:\n",
        "\n",
        "$$\n",
        "\\begin{bmatrix}\n",
        "1 & 0 & 0 & 2 & 2 \\\\\n",
        "0 & 1 & 0 & 2 & 2 \\\\\n",
        "0 & 0 & 1 & 2 & 2 \\\\\n",
        "25 & 16 & 9 & 4 & 1 \\\\\n",
        "\\end{bmatrix}\n",
        "$$\n",
        "\n",
        "You can use any built-in function to generate the matrix."
      ]
    },
    {
      "cell_type": "code",
      "execution_count": null,
      "metadata": {
        "id": "AY1gfhWjIwgs"
      },
      "outputs": [],
      "source": [
        "# Write your code here"
      ]
    },
    {
      "cell_type": "markdown",
      "metadata": {
        "id": "t0SeP5SqIwgs"
      },
      "source": [
        "##### **Problem 07:**\n",
        "Plot $y = 2x^2 + 3x + 1$ for $x \\in [-3, 3]$ with interval 0.25. You can use any built-in function to plot the graph."
      ]
    },
    {
      "cell_type": "code",
      "execution_count": null,
      "metadata": {
        "id": "JbQr_MhpIwgt"
      },
      "outputs": [],
      "source": [
        "# Write your code here"
      ]
    },
    {
      "cell_type": "markdown",
      "metadata": {
        "id": "ZVdpN3_EIwgt"
      },
      "source": [
        "##### **Problem 08:**\n",
        "Plot $x + y + z = 1$ for $x, y \\in [-3, 3]$ with interval 0.5. Use meshgrid to generate the grid. You can use any built-in function to plot the surface."
      ]
    },
    {
      "cell_type": "code",
      "execution_count": null,
      "metadata": {
        "id": "CQCHCUGiIwgt"
      },
      "outputs": [],
      "source": [
        "# Write your code here"
      ]
    },
    {
      "cell_type": "markdown",
      "metadata": {
        "id": "U5arvXB3Iwgt"
      },
      "source": [
        "##### **Problem 09:**\n",
        "Download the image of Lena Forsen from the following link: [https://upload.wikimedia.org/wikipedia/en/7/7d/Lenna_%28test_image%29.png](https://upload.wikimedia.org/wikipedia/en/7/7d/Lenna_%28test_image%29.png). Then, do the following tasks:\n",
        "\n",
        "*  Load the image to a numpy array.\n",
        "*  Find the size of the image.\n",
        "*  Find the minimum and maximum value of the image.\n",
        "*  Find the mean and standard deviation of the image.\n",
        "*  Plot the image using `plt.imshow()` or `display()`.\n",
        "*  Resize the image to 50 x 50.\n",
        "*  Convert the image to grayscale.\n",
        "*  Plot the grayscale image using `plt.imshow()` or `display()`.\n",
        "*  Save the grayscale image using `imsave()`.\n",
        "*  Stack the columns of the image to form a vector of size 2500 x 1."
      ]
    },
    {
      "cell_type": "code",
      "execution_count": null,
      "metadata": {
        "id": "HUjBUGeqIwgu"
      },
      "outputs": [],
      "source": [
        "# Write your code here"
      ]
    },
    {
      "cell_type": "markdown",
      "source": [
        "##### **Problem 10: Taylor Approximation:**\n",
        "\n",
        "Compute 2nd order Taylor Approximation of $e^{2x}$, $e^{3x}$ and $e^{5x}$ around $a=0$ for $x ∈ [-1, 1]$ with interval 0.01. Then, determine which of the following is more accurate:\n",
        "\n",
        "\n",
        "> Indented block\n",
        "1.   Calculating the Taylor Approximation separately for each $e^{2x}$ and $e^{3x}$, then multiplying them together.\n",
        "2.   Calculating the Taylor Approximation for $e^{5x}$.\n",
        "\n",
        "Use **mean square error** (MSE) to determine the accuracy. Also, plot the Taylor approximation for 1st and 2nd method and the original function in the **same plot** for visual comparison.\n",
        "\n",
        "You guys can use *Python Lambda Functions* to write the functions for the Taylor series and derivate calculations. The syntax for Lambda Functions are `lambda arguments : expression`.\n",
        "\n",
        "\n",
        "\n",
        "\n"
      ],
      "metadata": {
        "id": "0inyf1pc-KkX"
      }
    },
    {
      "cell_type": "code",
      "source": [
        "import numpy as np\n",
        "import matplotlib.pyplot as plt\n",
        "\n",
        "# Functions for Taylor Series Approximation\n",
        "\n",
        "\n",
        "# Functions to calculate the First Derivative\n",
        "\n",
        "\n",
        "# Functions to calculate the Second Derivative\n",
        "\n",
        "\n",
        "# Function that returns the Taylor Series Approximation\n",
        "\n",
        "\n",
        "x = np.range(-1, 1.01, 0.01)   # Use this x in your approximator function above\n",
        "\n",
        "# Approximate the Exponential functions\n",
        "\n",
        "\n",
        "# Calculate the MSE Error\n",
        "\n",
        "\n",
        "# Compare the MSE result and print which one is better\n",
        "\n",
        "\n",
        "# Plot the approximation for visual comparison"
      ],
      "metadata": {
        "id": "1L5eNOweB6uQ"
      },
      "execution_count": 4,
      "outputs": []
    }
  ],
  "metadata": {
    "kernelspec": {
      "display_name": "Python 3.10.6 64-bit",
      "language": "python",
      "name": "python3"
    },
    "language_info": {
      "codemirror_mode": {
        "name": "ipython",
        "version": 3
      },
      "file_extension": ".py",
      "mimetype": "text/x-python",
      "name": "python",
      "nbconvert_exporter": "python",
      "pygments_lexer": "ipython3",
      "version": "3.10.6"
    },
    "orig_nbformat": 4,
    "vscode": {
      "interpreter": {
        "hash": "b148fc9bfa8b60132af830e32e1690e4e023b803e92912df15b823b90141dda6"
      }
    },
    "colab": {
      "provenance": [],
      "include_colab_link": true
    }
  },
  "nbformat": 4,
  "nbformat_minor": 0
}