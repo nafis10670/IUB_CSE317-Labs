{
  "cells": [
    {
      "cell_type": "markdown",
      "metadata": {
        "id": "view-in-github",
        "colab_type": "text"
      },
      "source": [
        "<a href=\"https://colab.research.google.com/github/nafis10670/IUB_CSE317-Labs/blob/main/Lab_2_Taylor_Series.ipynb\" target=\"_parent\"><img src=\"https://colab.research.google.com/assets/colab-badge.svg\" alt=\"Open In Colab\"/></a>"
      ]
    },
    {
      "cell_type": "markdown",
      "source": [
        "# Taylor Series"
      ],
      "metadata": {
        "id": "F_pa6sE8XLIv"
      }
    },
    {
      "cell_type": "markdown",
      "metadata": {
        "id": "ePK5J4arWRP1"
      },
      "source": [
        "In this lab, we will explore the Taylor series expansion of a function.  We will use the Taylor series expansion to approximate the value of a function at a point. Also, we will visualize how the order of the Taylor series expansion affects the accuracy of the approximation.\n",
        "\n",
        "#### **Taylor Series Expansion of a Function**\n",
        "The Taylor series expansion of is a representation of the function by an infinite series of polynomials centered at the point.  The Taylor series expansion of a function $f(x)$ is given by\n",
        "\n",
        "$$f(x) = \\sum_{n=0}^{\\infty} \\frac{f^{(n)}(a)}{n!}(x-a)^n$$\n",
        "\n",
        "where $f^{(n)}(a)$ is the $n$ th derivative of $f(x)$ evaluated at $a$.\n",
        "\n",
        "##### **Example**\n",
        "Consider the function $f(x) = e^x$ and the point $a = 0$.  The Taylor series expansion of $f(x)$ centered at $a$ is given by\n",
        "\n",
        "![snap1.PNG](data:image/png;base64,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)\n",
        "\n",
        "The final expression is an infinite series of polynomials.  The first term is the constant term, the second term is the linear term, the third term is the quadratic term, the fourth term is the cubic term, and so on.  The more terms we include in the series, the more accurate the approximation of the function becomes. We will explore this in the next section."
      ]
    },
    {
      "cell_type": "markdown",
      "metadata": {
        "id": "jCGnzpn8WRP3"
      },
      "source": [
        "#### **Approximation using Taylor Series**\n",
        "We can approximate the value of a function at a point by using the Taylor series expansion of the function. We have already seen an example of how to expand a function using the Taylor series expansion.  In this section, we will use the Taylor series expansion to approximate the value of a function at a point. \n",
        "\n",
        "But, the Taylor series expansion is an infinite series and we oviously cannot compute the value of an infinite series. So, we will use the first few terms of the Taylor series expansion to approximate the value of the function at a point. The number of terms we use in the Taylor series expansion is related to the order of the Taylor series expansion.  The order of the Taylor series expansion is one less than the number of terms in the Taylor series expansion.  For example, if we use the first three terms of the Taylor series expansion, the order of the Taylor series expansion is 2.  If we use the first four terms of the Taylor series expansion, the order of the Taylor series expansion is 3.  And so on.\n",
        "\n",
        "Now, we will try to approximate the function $f(x) = e^{-x}$ at the point $a = 0$ and observe the effect of the order of the Taylor series expansion on the accuracy of the approximation. Follow the steps below to complete the task."
      ]
    },
    {
      "cell_type": "markdown",
      "metadata": {
        "id": "VfC76aiUWRP3"
      },
      "source": [
        "##### **Step 01: Import the required libraries**\n",
        "We will be using the numpy to deal with arrays and the matplotlib to plot the function and its approximation. Import these two libraries in the cell below."
      ]
    },
    {
      "cell_type": "code",
      "execution_count": null,
      "metadata": {
        "id": "S8HiLrx8WRP3"
      },
      "outputs": [],
      "source": [
        "# Write appropiate code here"
      ]
    },
    {
      "cell_type": "markdown",
      "metadata": {
        "id": "2ryEZZj3WRP4"
      },
      "source": [
        "##### **Step 02: Define the function and its derivative**\n",
        "Write a function that takes $x$ as an argument and returns the value of $f(x)$.  Also, write the following functions that return the value of the first, second, third, and fourth derivatives of $f(x)$.\n",
        "\n",
        ">1. `f1(x)`: returns the value of the first derivative of $f(x)$\n",
        ">2. `f2(x)`: returns the value of the second derivative of $f(x)$\n",
        ">3. `f3(x)`: returns the value of the third derivative of $f(x)$\n",
        ">4. `f4(x)`: returns the value of the fourth derivative of $f(x)$"
      ]
    },
    {
      "cell_type": "code",
      "execution_count": null,
      "metadata": {
        "id": "s0FPiSAFWRP4"
      },
      "outputs": [],
      "source": [
        "# Write appropiate code here"
      ]
    },
    {
      "cell_type": "markdown",
      "metadata": {
        "id": "guKQFFG7WRP4"
      },
      "source": [
        "##### **Step 03: Generalize the derivative functions**\n",
        "The functions `f1(x)`, `f2(x)`, `f3(x)`, and `f4(x)` that you wrote in the previous step are specific to the function $f(x) = e^{-x}$.  Now, write a generalized function that takes the order of the derivative as an argument and returns the value of the derivative of $f(x)$.\n",
        "\n",
        "> `fn(x, n)`: returns the value of the $n$ th derivative of $f(x)$\n",
        "\n",
        "**Hint**: The generalized derivative formula can be written as: $(-1)^n × e^{-x}$"
      ]
    },
    {
      "cell_type": "code",
      "execution_count": null,
      "metadata": {
        "id": "RL7e9KA3WRP4"
      },
      "outputs": [],
      "source": [
        "# Write appropiate code here"
      ]
    },
    {
      "cell_type": "markdown",
      "metadata": {
        "id": "HjZZTA2TWRP4"
      },
      "source": [
        "##### **Step 04: Define the Taylor series expansion function**\n",
        "Write a function that takes $x$, $a$, and $n$ as arguments and returns the value of the Taylor series expansion of $f(x)$ at $a$ with order $n$.\n",
        "\n",
        "> `taylor(x, a, n)`: returns the value of the Taylor series expansion of $f(x)$ at $a$ using the first $n$ terms of the Taylor series expansion"
      ]
    },
    {
      "cell_type": "code",
      "execution_count": null,
      "metadata": {
        "id": "fZQ9mFxcWRP5"
      },
      "outputs": [],
      "source": [
        "# Write appropiate code here"
      ]
    },
    {
      "cell_type": "markdown",
      "metadata": {
        "id": "SQiThM57WRP5"
      },
      "source": [
        "##### **Step 05: Approximate the value of the function at a point**\n",
        "Using the function `taylor(x, a, n)`, approximate the value of $f(x)$ at $x = 1$ using the first $5$ terms of the Taylor series expansion.  Also, compute the value of $f(x)$ at $x = 1$ using the function `f(x)` that you wrote in the previous step.  Find the absolute difference between the two values to determine the accuracy of the approximation."
      ]
    },
    {
      "cell_type": "code",
      "execution_count": null,
      "metadata": {
        "id": "B7pXW5e1WRP5"
      },
      "outputs": [],
      "source": [
        "# Write appropiate code here"
      ]
    },
    {
      "cell_type": "markdown",
      "metadata": {
        "id": "t1C6Pc0yWRP5"
      },
      "source": [
        "##### **Step 06: Show the visual difference between the approximation and the actual function**\n",
        "Now, we will see how good the approximation is by plotting the function and the Taylor series expansion of the function at different orders.  Follow the steps below to complete the task.\n",
        "\n",
        ">1. Define a list of values of `x` from $-2$ to $2$ with a step size of $0.1$.\n",
        ">2. Define a list of values of `y` by evaluating the function $f(x)$ at each value of $x$.\n",
        ">3. Define a list of values of `y_app` by evaluating the Taylor series expansion of $f(x)$ at each value of $x$ using the first $n$ terms of the Taylor series expansion starting from $n=1$ to $n=4$.\n",
        ">4. Plot the function $f(x)$ and the Taylor series expansion of $f(x)$ at different orders.  Use the following colors for the plots.\n",
        ">    * $n = 1$: red\n",
        ">    * $n = 2$: green\n",
        ">    * $n = 3$: blue\n",
        ">    * $n = 4$: black\n",
        ">5. Add a legend to the plot.\n",
        ">6. Add labels to the $x$ and $y$ axes.\n",
        ">7. Add a title to the plot.\n",
        "\n",
        "See the effect of the order of the Taylor series expansion on the accuracy of the approximation.  The more terms we include in the Taylor series expansion, the more accurate the approximation becomes.  But, the more terms we include in the Taylor series expansion, the more complex the Taylor series expansion becomes.  So, we need to find a balance between the accuracy of the approximation and the complexity of the Taylor series expansion."
      ]
    },
    {
      "cell_type": "code",
      "execution_count": null,
      "metadata": {
        "id": "oUfstHdEWRP5"
      },
      "outputs": [],
      "source": [
        "# Write appropiate code here"
      ]
    }
  ],
  "metadata": {
    "kernelspec": {
      "display_name": "Python 3.10.6 64-bit",
      "language": "python",
      "name": "python3"
    },
    "language_info": {
      "codemirror_mode": {
        "name": "ipython",
        "version": 3
      },
      "file_extension": ".py",
      "mimetype": "text/x-python",
      "name": "python",
      "nbconvert_exporter": "python",
      "pygments_lexer": "ipython3",
      "version": "3.10.7"
    },
    "orig_nbformat": 4,
    "vscode": {
      "interpreter": {
        "hash": "e7370f93d1d0cde622a1f8e1c04877d8463912d04d973331ad4851f04de6915a"
      }
    },
    "colab": {
      "provenance": [],
      "include_colab_link": true
    }
  },
  "nbformat": 4,
  "nbformat_minor": 0
}