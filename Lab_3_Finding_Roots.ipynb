{
  "cells": [
    {
      "cell_type": "markdown",
      "metadata": {
        "id": "view-in-github",
        "colab_type": "text"
      },
      "source": [
        "<a href=\"https://colab.research.google.com/github/nafis10670/IUB_CSE317-Labs/blob/main/Lab_3_Finding_Roots.ipynb\" target=\"_parent\"><img src=\"https://colab.research.google.com/assets/colab-badge.svg\" alt=\"Open In Colab\"/></a>"
      ]
    },
    {
      "cell_type": "markdown",
      "source": [
        "# Root Finding"
      ],
      "metadata": {
        "id": "4o6qkymPVoP4"
      }
    },
    {
      "cell_type": "markdown",
      "metadata": {
        "id": "zaNqdc6SVh8k"
      },
      "source": [
        "In this assignment, you will learn how to use Python to implement several methods of locating the roots of a function."
      ]
    },
    {
      "cell_type": "markdown",
      "metadata": {
        "id": "m52rrg-9Vh8l"
      },
      "source": [
        "#### **Import necessary packages:**"
      ]
    },
    {
      "cell_type": "code",
      "execution_count": 2,
      "metadata": {
        "id": "f9tbDwKwVh8l"
      },
      "outputs": [],
      "source": [
        "# Write appropriate code"
      ]
    },
    {
      "cell_type": "markdown",
      "metadata": {
        "id": "IJmEELbGVh8m"
      },
      "source": [
        "#### **A. Newton-Raphson method:**\n",
        "You will implement the Newton-Raphson method to find the root of the following function. \n",
        "$$𝑓(𝑥) = 𝑒^𝑥 − 3𝑥 $$\n",
        "The Newton-Raphson method is an iterative method that uses the tangent line to the function to find the root. The method starts with an initial guess $x_0$ and then iterates to find a better approximation of the root. The iteration is given by the following formula:\n",
        "\n",
        "$$x_{n+1} = x_n - \\frac{f(x_n)}{f'(x_n)}$$\n",
        "\n",
        "where $f(x)$ is the function whose root we are trying to find and $f'(x)$ is the derivative of $f(x)$. The iteration stops when the difference between two consecutive approximations is less than a given tolerance $\\epsilon$. We will follow the following steps to implement the Newton-Raphson method:"
      ]
    },
    {
      "cell_type": "markdown",
      "metadata": {
        "id": "lgdcsjNqVh8u"
      },
      "source": [
        "##### **Step 1: Define the function and its derivative:**\n",
        "You have to define a function `f(x)` that takes a number $x$ as input and returns the value of $f(x) = e^x - 3x$. You also have to define a function `fprime(x)` that takes a number $x$ as input and returns the value of derivative of $f(x)$, i.e., $f'(x) = e^x - 3$."
      ]
    },
    {
      "cell_type": "code",
      "execution_count": 3,
      "metadata": {
        "id": "PkB_-AFoVh8u"
      },
      "outputs": [],
      "source": [
        "# Write appropriate code"
      ]
    },
    {
      "cell_type": "markdown",
      "metadata": {
        "id": "3mojJO6SVh8u"
      },
      "source": [
        "##### **Step 2: Define initial guess and tolerance:**\n",
        "You have to define a variable `x_0` that stores the initial guess and a variable `epsilon` that stores the tolerance (approximate relative error). You can choose any value for `x_0`. Use `epsilon = 0.001%` for this assignment."
      ]
    },
    {
      "cell_type": "code",
      "execution_count": 4,
      "metadata": {
        "id": "AIZRHFubVh8v"
      },
      "outputs": [],
      "source": [
        "# Write appropriate code"
      ]
    },
    {
      "cell_type": "markdown",
      "metadata": {
        "id": "US7J5-JFVh8v"
      },
      "source": [
        "##### **Step 3: Implement the Newton-Raphson method:**\n",
        "Loop through the following steps until the difference between two consecutive approximations is less than the tolerance $\\epsilon$:\n",
        "\n",
        "  1. Calculate the next approximation of the root using the formula given above.\n",
        "  2. Calculate the approximate relative error.\n",
        "  3. Print the current approximation and the approximate relative error.\n",
        "  4. Plot the function and the estimated root on the same plot.\n",
        "  5. Update the current approximation to be the next approximation.\n"
      ]
    },
    {
      "cell_type": "code",
      "execution_count": null,
      "metadata": {
        "id": "h7hrmMl1Vh8v"
      },
      "outputs": [],
      "source": [
        "# Write appropriate code"
      ]
    },
    {
      "cell_type": "markdown",
      "metadata": {
        "id": "HolSypGyVh8w"
      },
      "source": [
        "#### **B. Newton-Raphson method using finite difference derivatives:**\n",
        "You will implement the Newton-Raphson method using finite difference derivative to find the root of the following function.\n",
        "$$𝑓(𝑥) = 𝑒^𝑥 − 3𝑥 $$\n",
        "Previously, you have implemented the Newton-Raphson method using the analytical derivative of the function. You will implement the Newton-Raphson method using finite difference derivative in this part. We will use the following formulas to calculate the finite difference derivative:\n",
        ">1. Forward difference derivative:\n",
        ">$$f'(x) = \\frac{f(x + h) - f(x)}{h}$$\n",
        ">2. Backward difference derivative:\n",
        ">$$f'(x) = \\frac{f(x) - f(x - h)}{h}$$\n",
        ">3. Central difference derivative:\n",
        ">$$f'(x) = \\frac{f(x + h) - f(x - h)}{2h}$$\n",
        "where $h$ is the step size. You can choose any value for $h$. We will follow the following steps to implement the Newton-Raphson method using finite difference derivative:"
      ]
    },
    {
      "cell_type": "markdown",
      "metadata": {
        "id": "AsMtzC2jVh8w"
      },
      "source": [
        "##### **Step 1: Define the function and its derivatives:**\n",
        "You have to define a function `f(x)` that takes a number $x$ as input and returns the value of $f(x) = e^x - 3x$. You also have to define the following functions that take a number $x$ as input and returns the value of the derivative of $f(x)$ using the corresponding finite difference derivative formula:\n",
        ">1. `fprime_forward(x, h)`\n",
        ">2. `fprime_backward(x, h)`\n",
        ">3. `fprime_central(x, h)`"
      ]
    },
    {
      "cell_type": "code",
      "execution_count": null,
      "metadata": {
        "id": "WY3b2U0vVh8x"
      },
      "outputs": [],
      "source": [
        "# Write appropriate code"
      ]
    },
    {
      "cell_type": "markdown",
      "metadata": {
        "id": "fp1WY2iIVh8x"
      },
      "source": [
        "##### **Step 2: Define initial guess, tolerance, and step size:**\n",
        "You have to define a variable `x_0` that stores the initial guess and a variable `epsilon` that stores the tolerance (approximate relative error). You can choose any value for `x_0`. Use `epsilon = 0.001%` for this assignment. You also have to define a variable `h` that stores the step size. We will use `h = 0.01` for this assignment."
      ]
    },
    {
      "cell_type": "code",
      "execution_count": null,
      "metadata": {
        "id": "zxzRhySxVh8x"
      },
      "outputs": [],
      "source": [
        "# Write appropriate code"
      ]
    },
    {
      "cell_type": "markdown",
      "metadata": {
        "id": "cWTrtVRgVh8x"
      },
      "source": [
        "##### **Step 3: Implement the Newton-Raphson method using finite difference derivative:**\n",
        "Write the following function that takes the initial guess, tolerance, and step size as inputs and returns the root of the function using the Newton-Raphson method using finite difference derivative:\n",
        ">1. `nr_fordiff(x_0, epsilon, h)` for forward difference derivative\n",
        ">2. `nr_bakdiff(x_0, epsilon, h)` for backward difference derivative\n",
        ">3. `nr_cendiff(x_0, epsilon, h)` for central difference derivative\n",
        "\n",
        "Each function should loop through the following steps until the difference between two consecutive approximations is less than the tolerance $\\epsilon$:\n",
        "\n",
        "  1. Calculate the next approximation of the root using the formula given above.\n",
        "  2. Calculate the approximate relative error.\n",
        "  3. Print the iteration number, the current approximation, $f(current approximation)$, and the approximate relative error as shown in the example below.\n",
        "  <img src=\"./images/B-Central.png\" />\n",
        "  4. Store the current approximation in a list.\n",
        "  5. Update the current approximation to be the next approximation.\n",
        "\n",
        "The function should return the list of approximations."
      ]
    },
    {
      "cell_type": "code",
      "execution_count": null,
      "metadata": {
        "id": "Nw1hvCZiVh8y"
      },
      "outputs": [],
      "source": [
        "# Write appropriate code"
      ]
    },
    {
      "cell_type": "markdown",
      "metadata": {
        "id": "odc5R_NsVh8y"
      },
      "source": [
        "##### **Step 4: Plot the approximations:**\n",
        "Use the function you wrote in the previous step to get the list of approximations. Then, plot the list of approximations against the number of iterations for all three methods. The x-axis should be the number of iterations and the y-axis should be the approximation. The subplot should have legends to distinguish between the three methods. Also, plot the original function in another subplot. The plot should look like the example below:\n",
        "\n",
        "<img src=\"./images/B-Plot.png\" width=\"1000\"/>"
      ]
    },
    {
      "cell_type": "code",
      "execution_count": null,
      "metadata": {
        "id": "mRwc9DqxVh8y"
      },
      "outputs": [],
      "source": [
        "# Write appropriate code"
      ]
    },
    {
      "cell_type": "markdown",
      "metadata": {
        "id": "M00qsT7pVh8y"
      },
      "source": [
        "#### **C. Modefied Newton-Raphson Method:**\n",
        "\n",
        "To alleviate the problem of the slow convergence of the Newton-Raphson method on functions with multiple roots, we can use the modified Newton-Raphson method. This method uses the fact that $f(x)$ and $u(x) \\coloneqq \\frac{f(x)}{f'(x)}$ both have the same zeors as $f(x)$ goes to zero before $f'(x)$ does, and instead approximates a root of $u(x)$ that is defined as:\n",
        "\n",
        "$$ u(x) = \\frac{f(x)}{f'(x)} $$\n",
        "\n",
        "the Newton-Raphson method is then applied to $u(x)$,\n",
        "\n",
        "$$ x_{n+1} = x_n - \\frac{u(x_n)}{u'(x_n)} $$\n",
        "\n",
        "We can then derrive the update rule for the modified Newton-Raphson method in terms of $f(x)$ as:\n",
        "\n",
        "$$ x_{n+1} = x_n - \\frac{f(x_n)f'(x_n)}{(f'(x_n))^2 - f(x_n)f''(x_n)} $$\n",
        "\n",
        "As we can see, the modified Newton-Raphson method uses the second derivative of $f(x)$ to calculate the next approximation. We will use the following formulas to calculate the second order finite difference derivative:\n",
        "\n",
        ">1. Second order forward difference derivative:\n",
        ">$$f''(x) = \\frac{f(x + 2h) - 2f(x + h) + f(x)}{h^2}$$\n",
        ">2. Second order backward difference derivative:\n",
        ">$$f''(x) = \\frac{f(x) - 2f(x - h) + f(x - 2h)}{h^2}$$\n",
        ">3. Second order central difference derivative:\n",
        ">$$f''(x) = \\frac{f(x + h) - 2f(x) + f(x - h)}{h^2}$$\n",
        "\n",
        "Now, you will implement the modified Newton-Raphson method using finite difference derivative to find the root of the following function.\n",
        "\n",
        "$$𝑓(𝑥) = (x-3)^3(x+1)$$\n",
        "\n",
        "We will follow the following steps to implement the modified Newton-Raphson method using finite difference derivative:"
      ]
    },
    {
      "cell_type": "markdown",
      "metadata": {
        "id": "R4BqJW1gVh8y"
      },
      "source": [
        "##### **Step 1: Define the function and its derivatives:**\n",
        "You have to define a function `f(x)` that takes a number $x$ as input and returns the value of $f(x) = (x-3)^3(x+1)$. You also have to define the following functions that take a number $x$ as input and returns the value of the derivative of $f(x)$ using the corresponding finite difference derivative formula:\n",
        "\n",
        ">1. `fprime_forward(x, h)`\n",
        ">2. `fprime_backward(x, h)`\n",
        ">3. `fprime_central(x, h)`\n",
        ">4. `fprime2_forward(x, h)`\n",
        ">5. `fprime2_backward(x, h)`\n",
        ">6. `fprime2_central(x, h)`"
      ]
    },
    {
      "cell_type": "code",
      "execution_count": null,
      "metadata": {
        "id": "Cv3sjqr5Vh8z"
      },
      "outputs": [],
      "source": [
        "# Write appropriate code"
      ]
    },
    {
      "cell_type": "markdown",
      "metadata": {
        "id": "T4q6yneGVh8z"
      },
      "source": [
        "#### **Step 2: Define initial guess, tolerance, and step size:**\n",
        "You have to define a variable `x_0` that stores the initial guess and a variable `epsilon` that stores the tolerance (approximate relative error). Use `x_0 = 0` and `epsilon = 0.001%` for this assignment. You also have to define a variable `h` that stores the step size. We will use `h = 0.01` for this assignment."
      ]
    },
    {
      "cell_type": "code",
      "execution_count": null,
      "metadata": {
        "id": "E5EN_zztVh8z"
      },
      "outputs": [],
      "source": [
        "# Write appropriate code"
      ]
    },
    {
      "cell_type": "markdown",
      "metadata": {
        "id": "HmpyGfpBVh8z"
      },
      "source": [
        "##### **Step 3: Implement the modified Newton-Raphson method using finite difference derivative:**\n",
        "Write the following function that takes the initial guess, tolerance, and step size as inputs and returns the root of the function using the modified Newton-Raphson method using finite difference derivative:\n",
        "\n",
        ">1. `mnr_fordiff(x_0, epsilon, h)` for forward difference derivative\n",
        ">2. `mnr_bakdiff(x_0, epsilon, h)` for backward difference derivative\n",
        ">3. `mnr_cendiff(x_0, epsilon, h)` for central difference derivative\n",
        "\n",
        "Each function should loop through the following steps until the difference between two consecutive approximations is less than the tolerance $\\epsilon$:\n",
        "\n",
        "  1. Calculate the next approximation of the root using the formula given above.\n",
        "  2. Calculate the approximate relative error.\n",
        "  3. Print the iteration number, the current approximation, $f(current approximation)$, and the approximate relative error as shown in the example below.\n",
        "  <img src=\"./images/C-Central.png\" />\n",
        "  4. Store the current approximation in a list.\n",
        "  5. Update the current approximation to be the next approximation.\n",
        "\n",
        "The function should return the list of approximations."
      ]
    },
    {
      "cell_type": "code",
      "execution_count": null,
      "metadata": {
        "id": "mT_RUc-jVh80"
      },
      "outputs": [],
      "source": [
        "# Write appropriate code"
      ]
    },
    {
      "cell_type": "markdown",
      "metadata": {
        "id": "I1J1NybfVh80"
      },
      "source": [
        "##### **Step 4: Plot the approximations:**\n",
        "Use the function you wrote in the previous step to get the list of approximations. Then, plot the list of approximations against the number of iterations for all three methods. The x-axis should be the number of iterations and the y-axis should be the approximation. The subplot should have legends to distinguish between the three methods. Also, plot the original function in another subplot. The plot should look like the example below:"
      ]
    },
    {
      "cell_type": "markdown",
      "metadata": {
        "id": "iE9OTReiVh80"
      },
      "source": [
        "##### **Step 5: Compare the convergence rate of the Newton-Raphson method and the modified Newton-Raphson method:**\n",
        "Use the function you wrote for the Newton-Raphson method to get the list of approximations for forward difference derivative. Then, use the function you wrote for the modified Newton-Raphson method to get the list of approximations for forward difference derivative. Plot the list of approximations for the Newton-Raphson method and the modified Newton-Raphson method against the number of iterations. The x-axis should be the number of iterations and the y-axis should be the approximation. The subplot should have legends to distinguish between the two methods. Also, plot the original function in another subplot. The plot should look like the example below:"
      ]
    }
  ],
  "metadata": {
    "colab": {
      "collapsed_sections": [],
      "provenance": [],
      "include_colab_link": true
    },
    "kernelspec": {
      "display_name": "Python 3.10.6 64-bit",
      "language": "python",
      "name": "python3"
    },
    "language_info": {
      "codemirror_mode": {
        "name": "ipython",
        "version": 3
      },
      "file_extension": ".py",
      "mimetype": "text/x-python",
      "name": "python",
      "nbconvert_exporter": "python",
      "pygments_lexer": "ipython3",
      "version": "3.10.6"
    },
    "vscode": {
      "interpreter": {
        "hash": "e7370f93d1d0cde622a1f8e1c04877d8463912d04d973331ad4851f04de6915a"
      }
    }
  },
  "nbformat": 4,
  "nbformat_minor": 0
}