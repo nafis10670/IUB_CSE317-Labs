{
  "cells": [
    {
      "cell_type": "markdown",
      "metadata": {
        "id": "view-in-github",
        "colab_type": "text"
      },
      "source": [
        "<a href=\"https://colab.research.google.com/github/nafis10670/IUB_CSE317-Labs/blob/main/Lab_4_Numerical_Integration.ipynb\" target=\"_parent\"><img src=\"https://colab.research.google.com/assets/colab-badge.svg\" alt=\"Open In Colab\"/></a>"
      ]
    },
    {
      "cell_type": "markdown",
      "source": [
        "#Trapezoid and Composite Trapezoid Rule"
      ],
      "metadata": {
        "id": "Zv6rPTEnDB9q"
      }
    },
    {
      "cell_type": "markdown",
      "metadata": {
        "id": "3zbuaG8ECprr"
      },
      "source": [
        "In this lab, we be implementing the **Trapezoidal Rule** and the **Composite Trapezoid Rule** for numerical integration."
      ]
    },
    {
      "cell_type": "markdown",
      "metadata": {
        "id": "Wdc8BrBaCprs"
      },
      "source": [
        "#### **Import necessary packages**"
      ]
    },
    {
      "cell_type": "code",
      "execution_count": null,
      "metadata": {
        "id": "xdWdcfhqCprs"
      },
      "outputs": [],
      "source": [
        "# Write appropriate code"
      ]
    },
    {
      "cell_type": "markdown",
      "metadata": {
        "id": "seH9lJadCprt"
      },
      "source": [
        "#### **A. The Trapezoidal Rule**\n",
        "\n",
        "The trapezoidal rule is a numerical method for approximating the definite integral of a function $f(x)$ over the interval $[a,b]$. \n",
        "\n",
        "$$I = \\int_a^b f(x) dx$$\n",
        "\n",
        "Using the first order Taylor series expansion of $f(x)$ we can approximate the integral as:\n",
        "\n",
        "$$\n",
        "\\begin{align*}\n",
        "I &\\approx \\int_a^b f_1(x) dx \\\\\n",
        "&\\approx \\int_a^b \\left[ f(a) + \\frac{f(a)-f(b)}{b-a} (x-a) \\right] dx \\\\\n",
        "&\\approx (b-a) \\left[ \\frac{f(a)+f(b)}{2} \\right]\n",
        "\\end{align*}\n",
        "$$\n",
        "\n",
        "where $f_1(x) = f(a) + \\frac{f(a)-f(b)}{b-a} (x-a)$ is the first order Taylor series expansion of $f(x)$ at $x=a$.\n",
        "\n",
        "The trapezoidal rule is equivalent to approximating the area under the straight line connecting the points $(a,f(a))$ and $(b,f(b))$.\n",
        "\n",
        "<center>\n",
        "    <img src=\"https://github.com/mirsazzathossain/CSE317-Lab/blob/main/images/trapezoidal_single.png?raw=1\" width=\"400\" />\n",
        "</center>\n",
        "\n",
        "We will now implement the trapezoidal rule to approximate the integral of $f(x) = -\\frac{1}{5}(x-4)^2 + 8$ over the interval $[-1, 8]$ by following the steps below:"
      ]
    },
    {
      "cell_type": "markdown",
      "metadata": {
        "id": "qlzdajJwCpru"
      },
      "source": [
        "##### **Step 1: Define the function**\n",
        "Write a function that takes x as an input and returns the value of $f(x)$. Note that the function should be able to handle both scalar and vector inputs."
      ]
    },
    {
      "cell_type": "code",
      "execution_count": null,
      "metadata": {
        "id": "JpWEPmPRCpru"
      },
      "outputs": [],
      "source": [
        "# Write appropriate code"
      ]
    },
    {
      "cell_type": "markdown",
      "metadata": {
        "id": "m6cwDY6XCpru"
      },
      "source": [
        "##### **Step 2: Define the interval**\n",
        "Define the interval as a list of two elements, where the first element is the lower bound and the second element is the upper bound. Name the list `interval`."
      ]
    },
    {
      "cell_type": "code",
      "execution_count": null,
      "metadata": {
        "id": "117_7SjmCprv"
      },
      "outputs": [],
      "source": [
        "# Write appropriate code"
      ]
    },
    {
      "cell_type": "markdown",
      "metadata": {
        "id": "-qOUTIkGCprw"
      },
      "source": [
        "##### **Step 3: Plot the graph of the function**\n",
        "In order to visualize the function, and the area under the straight line connecting the points $(a,f(a))$ and $(b,f(b))$, we will plot the following:\n",
        "\n",
        "* The function $f(x)$ over the interval $[-5, 12]$. Take 1000 numbers.\n",
        "* The straight line connecting the points $(a,f(a))$ and $(b,f(b))$\n",
        "* The filled area under the straight line connecting the points $(a,f(a))$ and $(b,f(b))$.\n",
        "\n",
        "To plot the filled area under the straight line connecting the points $(a,f(a))$ and $(b,f(b))$, we will use the `fill_between()` function from the `matplotlib.pyplot` package. See the documentation [here](https://matplotlib.org/3.1.1/api/_as_gen/matplotlib.pyplot.fill_between.html) for more information.\n",
        "\n",
        "Also, for drawing the axes, use `plt.axhline()` and `plt.axvline()`. See the documentation [here](https://matplotlib.org/stable/api/_as_gen/matplotlib.pyplot.axhline.html) for more information.\n",
        "\n"
      ]
    },
    {
      "cell_type": "code",
      "execution_count": null,
      "metadata": {
        "id": "FSjQKe2OCprw"
      },
      "outputs": [],
      "source": [
        "# Write appropriate code"
      ]
    },
    {
      "cell_type": "markdown",
      "metadata": {
        "id": "tEi4beMfCprw"
      },
      "source": [
        "##### **Step 4: Define a function to compute the trapezoidal rule**\n",
        "Write a function named `trapezoidal` that takes the interval as parameters and returns the approximate value of the integral. You have to call the function `f` that you defined in Step 1 to compute the value of $f(a)$ and $f(b)$ and then use the trapezoidal rule to compute the approximate value of the integral. Finally, return the approximate value of the integral."
      ]
    },
    {
      "cell_type": "code",
      "execution_count": null,
      "metadata": {
        "id": "9XEXTDlzCprx"
      },
      "outputs": [],
      "source": [
        "# Write appropriate code"
      ]
    },
    {
      "cell_type": "markdown",
      "metadata": {
        "id": "gh_ZyW_MCprx"
      },
      "source": [
        "##### **Step 5: Compute the approximate value of the integral**\n",
        "Call the function `trapezoidal` that you defined in Step 4 and pass the interval as parameters. Store the returned value in a variable named `I`. Print the value of `I`. Calculate the integral analytically and compare the result with the approximate value of the integral. Print the approximate relative error."
      ]
    },
    {
      "cell_type": "code",
      "execution_count": null,
      "metadata": {
        "id": "Hng5owhMCprx"
      },
      "outputs": [],
      "source": [
        "# Write appropriate code"
      ]
    },
    {
      "cell_type": "markdown",
      "metadata": {
        "id": "zd0aWNdDCprx"
      },
      "source": [
        "#### "
      ]
    },
    {
      "cell_type": "markdown",
      "metadata": {
        "id": "e7QJo1ajCprx"
      },
      "source": [
        "#### **B. The Composite Trapezoidal Rule**\n",
        "\n",
        "The composite trapezoidal rule is a numerical method for approximating the definite integral of a function $f(x)$ over the interval $[a,b]$ using a partition of the interval into $n$ subintervals of equal length. Using the composite trapezoidal rule, we can reduce the error in the approximation of the integral by increasing the number of subintervals. \n",
        "\n",
        "<center>\n",
        "    <img src=\"https://github.com/mirsazzathossain/CSE317-Lab/blob/main/images/trapezoidal_composite.png?raw=1\" width=\"400\" />\n",
        "</center>\n",
        "\n",
        "In the composite trapezoidal rule, we approximate the integral in each subinterval using the trapezoidal rule and then sum the approximations to obtain the approximate value of the integral.\n",
        "\n",
        "$$\n",
        "\\begin{align*}\n",
        "I &= \\int_a^b f(x) dx \\\\\n",
        "I &= \\int_{x_0}^{x_1} f(x) dx + \\int_{x_1}^{x_2} f(x) dx + \\cdots + \\int_{x_{n-1}}^{x_n} f(x) dx \\\\\n",
        "I &\\approx h \\frac{f(x_0) + f(x_1)}{2} + h \\frac{f(x_1) + f(x_2)}{2} + \\cdots + h \\frac{f(x_{n-1}) + f(x_n)}{2} \\\\\n",
        "&= \\frac{h}{2} \\left[ f(x_0) + 2f(x_1) + 2f(x_2) + \\cdots + 2f(x_{n-1}) + f(x_n) \\right] \\\\\n",
        "&= \\frac{h}{2} \\left[ f(x_0) + 2\\sum_{i=1}^{n-1} f(x_i) + f(x_n) \\right] \\\\\n",
        "&= (b-a) \\frac{f(x_0) + 2\\sum_{i=1}^{n-1} f(x_i) + f(x_n)}{2n}\n",
        "\\end{align*}\n",
        "$$\n",
        "\n",
        "where $h = \\frac{b-a}{n}$ is the length of each subinterval.\n",
        "\n",
        "We will now implement the composite trapezoidal rule to approximate the integral of $f(x) = -\\frac{1}{5}(x-4)^2 + 8$ over the interval $[-1, 8]$ by following the steps below:"
      ]
    },
    {
      "cell_type": "markdown",
      "metadata": {
        "id": "AUA7OFaoCpry"
      },
      "source": [
        "##### **Step 1: Define the function**\n",
        "Write a function that takes x as an parameter and returns the value of $f(x)$. Note that the function should be able to handle both scalar and vector inputs."
      ]
    },
    {
      "cell_type": "code",
      "execution_count": null,
      "metadata": {
        "id": "Of7kAoieCpry"
      },
      "outputs": [],
      "source": [
        "# Write appropriate code"
      ]
    },
    {
      "cell_type": "markdown",
      "metadata": {
        "id": "7H2H8IOUCpry"
      },
      "source": [
        "##### **Step 2: Define the interval**\n",
        "Define the interval as a numpy array of two elements, where the first element is the lower bound and the second element is the upper bound. Name the array `interval`."
      ]
    },
    {
      "cell_type": "code",
      "execution_count": null,
      "metadata": {
        "id": "SnehjiS_Cpry"
      },
      "outputs": [],
      "source": [
        "# Write appropriate code"
      ]
    },
    {
      "cell_type": "markdown",
      "metadata": {
        "id": "GAopq-kyCpry"
      },
      "source": [
        "##### **Step 3: Define a function to compute the composite trapezoidal rule**\n",
        "Write a function named `composite_trapezoidal` that takes the interval and the number of subintervals as parameters and returns the approximate value of the integral. \n",
        "*   Take `n+1` equally spaced points between the lower and upper bounds of the interval. Name the array `x`.\n",
        "*   Compute the value of $f(x)$ at each point in `x`. Name the array `y`.\n",
        "*   Compute the approximate value of the integral using the composite trapezoidal rule. Name the variable `I`.\n",
        "*   Return the approximate value of the integral."
      ]
    },
    {
      "cell_type": "code",
      "execution_count": null,
      "metadata": {
        "id": "o5Eqfzw7Cprz"
      },
      "outputs": [],
      "source": [
        "# Write appropriate code"
      ]
    },
    {
      "cell_type": "markdown",
      "metadata": {
        "id": "T-vw5A8zCprz"
      },
      "source": [
        "##### **Step 4: Compute the approximate value of the integral**\n",
        "Call the function `composite_trapezoidal` that you defined in Step 3 and pass the interval and the number of subintervals as parameters. We will take different values of `n` and compare the results. \n",
        "\n",
        "*   Call the function `composite_trapezoidal` and pass the interval and `n=1` as parameters. Store the returned value in a variable named `I1`. Print the value of `I1`.\n",
        "*   Call the function `composite_trapezoidal` and pass the interval and `n=2` as parameters. Store the returned value in a variable named `I2`. Print the value of `I2`.\n",
        "*   Call the function `composite_trapezoidal` and pass the interval and `n=4` as parameters. Store the returned value in a variable named `I4`. Print the value of `I4`.\n",
        "*   Call the function `composite_trapezoidal` and pass the interval and `n=8` as parameters. Store the returned value in a variable named `I8`. Print the value of `I8`.\n",
        "\n",
        "Calculate the integral analytically and compare the result with the approximate value of the integral. Print the approximate relative error for each value of `n`."
      ]
    },
    {
      "cell_type": "code",
      "execution_count": null,
      "metadata": {
        "id": "khQVOvZ0Cprz"
      },
      "outputs": [],
      "source": [
        "# Write appropriate code"
      ]
    },
    {
      "cell_type": "markdown",
      "metadata": {
        "id": "ZwKHrp0XCpr0"
      },
      "source": [
        "##### **Step 5: Plot the graph of the function**\n",
        "In order to visualize the function, and the area under the straight line connecting the subintervals we plot the following:\n",
        "\n",
        "* The function $f(x)$ over the interval $[-5, 12]$.\n",
        "* Take `4` equally spaced points between the lower and upper bounds of the interval. Plot the straight line connecting the points $(a,f(a))$, $(x_1,f(x_1))$, $(x_2,f(x_2))$, $(b,f(b))$.\n",
        "* Plot the filled area under the straight line connecting the points $(a,f(a))$, $(x_1,f(x_1))$, $(x_2,f(x_2))$, $(b,f(b))$.\n",
        "\n",
        "To plot the filled area under the straight line connecting the points $(a,f(a))$, $(x_1,f(x_1))$, $(x_2,f(x_2))$, $(b,f(b))$, we will use the `fill_between` function from the `matplotlib.pyplot` package. See the documentation [here](https://matplotlib.org/3.1.1/api/_as_gen/matplotlib.pyplot.fill_between.html) for more information."
      ]
    },
    {
      "cell_type": "code",
      "execution_count": null,
      "metadata": {
        "id": "aTRgCULrCpr0"
      },
      "outputs": [],
      "source": [
        "# Write appropriate code"
      ]
    }
  ],
  "metadata": {
    "kernelspec": {
      "display_name": "Python 3",
      "language": "python",
      "name": "python3"
    },
    "language_info": {
      "codemirror_mode": {
        "name": "ipython",
        "version": 3
      },
      "file_extension": ".py",
      "mimetype": "text/x-python",
      "name": "python",
      "nbconvert_exporter": "python",
      "pygments_lexer": "ipython3",
      "version": "3.10.6 (tags/v3.10.6:9c7b4bd, Aug  1 2022, 21:53:49) [MSC v.1932 64 bit (AMD64)]"
    },
    "orig_nbformat": 4,
    "vscode": {
      "interpreter": {
        "hash": "b148fc9bfa8b60132af830e32e1690e4e023b803e92912df15b823b90141dda6"
      }
    },
    "colab": {
      "provenance": [],
      "include_colab_link": true
    }
  },
  "nbformat": 4,
  "nbformat_minor": 0
}